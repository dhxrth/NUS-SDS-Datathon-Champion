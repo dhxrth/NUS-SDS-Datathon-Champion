{
  "cells": [
    {
      "cell_type": "markdown",
      "metadata": {
        "id": "view-in-github",
        "colab_type": "text"
      },
      "source": [
        "<a href=\"https://colab.research.google.com/github/dhxrth/NUS-SDS-Datathon-Champion/blob/main/NUS_DATATHON_CHAMPION_NUS_146.ipynb\" target=\"_parent\"><img src=\"https://colab.research.google.com/assets/colab-badge.svg\" alt=\"Open In Colab\"/></a>"
      ]
    },
    {
      "cell_type": "markdown",
      "metadata": {
        "id": "neDCiJWkJNJK"
      },
      "source": [
        "# Data Preparation\n",
        "\n",
        "#### The number of empty fields in the \"Year Found\" category was only around 1.6% of the enire dataset, so those rows were removed. An Age column, which shows the difference between the year the company was found and 2024, as the last column.\n",
        "\n",
        "#### The association between the response variables and quantitative input variables were determined using correlation values. The correlation values between the response variable \"Domestic Ultimate Sales\" and \"Age\" were tabulated to be -0.0165515 which indicates a weak negative correlation. Since \"Global Ultimate Sales\" and \"Domestic Ultimate Sales\" are key response variables, the rows with NA were removed as well. The correlation values between the response variable \"Domestic Ultimate Sales\" and \"Domestic Ultimate Employees\" were tabulated to be 0.01638367 which indicates a weak positive correlation. The correlation values between the response variable \"Global Ultimate Sales\" and \"Global Ultimate Employees\" were tabulated to be 0.6634766 which indicates a strong positive correlation.\n",
        "\n",
        "#### The association between categorical input variables and the response variables were identified using boxplots and the respective means. The mean (means1) Domestic Ultimate Sales was higher by 7.873727 times when the company is not the ultimate or highest-level company within a corporate structure based in its home country (Is Domestic Ultimate = 0). The mean Global Ultimate Sales (means2) was higher by 13.37533 times when Is Global Ultimate = 0. When comparing mean Global Ultimate Sales (means3) and a companies import/export status, companies that do both import and export recorded the highest mean sales. When comparing the industry of a company and their mean Global Ultimate Sales (means4), the top 5 industries were Petroleum Refining, Air Courier Services, Miscellaneous Business Credit Institutions, Plastics Bottles, Television Broadcasting Stations. When comparing the entity type of a company and their mean Global Ultimate Sales (means5), independently owned companies were ranked the highest. When comparing the parent country of a company and their mean Global Ultimate Sales (means6), the top 5 countries were Finland, Mexico, Bahamas, Ireland and Switzerland. When comparing the ownership type of a company and their mean Global Ultimate Sales (means7), privately owned companies were ranked the highest. When comparing the Global Ultimate Country of a company and their mean Global Ultimate Sales (means8), the top 5 countries were Mexico, United States, Japan, Germany and Taiwan."
      ]
    },
    {
      "cell_type": "code",
      "execution_count": 1,
      "metadata": {
        "id": "vgl4LZSiJNJT",
        "colab": {
          "base_uri": "https://localhost:8080/",
          "height": 232
        },
        "outputId": "78cdf412-9bdf-498f-fc83-304cf9f2e0a5"
      },
      "outputs": [
        {
          "output_type": "stream",
          "name": "stderr",
          "text": [
            "Warning message in file(file, \"rt\"):\n",
            "“cannot open file 'catA_train.csv': No such file or directory”\n"
          ]
        },
        {
          "output_type": "error",
          "ename": "ERROR",
          "evalue": "Error in file(file, \"rt\"): cannot open the connection\n",
          "traceback": [
            "Error in file(file, \"rt\"): cannot open the connection\nTraceback:\n",
            "1. read.csv(\"catA_train.csv\")",
            "2. read.table(file = file, header = header, sep = sep, quote = quote, \n .     dec = dec, fill = fill, comment.char = comment.char, ...)",
            "3. file(file, \"rt\")"
          ]
        }
      ],
      "source": [
        "set.seed(146)\n",
        "data = read.csv('catA_train.csv')\n",
        "getwd()\n",
        "setwd('/Users/siddharth/Desktop/DSA1101')\n",
        "dim(data)\n",
        "head(data)\n",
        "table(Year.Found)\n",
        "length(Year.Found)\n",
        "table(is.na(Year.Found))\n",
        "434/(434+28748)\n",
        "#only 1.4% age empty so remove them\n",
        "data = data[!is.na(data$Year.Found),]\n",
        "dim(data)\n",
        "table(is.na(data$Year.Found))\n",
        "Age = c(2024 - data$Year.Found)\n",
        "data = cbind(data, Age)\n",
        "cor(data$Sales..Domestic.Ultimate.Total.USD.,data$Age)\n",
        "data = data[!is.na(data$Employees..Global.Ultimate.Total.),]\n",
        "cor(data$Sales..Global.Ultimate.Total.USD.,data$Employees..Global.Ultimate.Total.)\n",
        "table(is.na(data$Employees..Domestic.Ultimate.Total.))\n",
        "data = data[!is.na(data$Employees..Domestic.Ultimate.Total.),]\n",
        "cor(data$Sales..Domestic.Ultimate.Total.USD.,data$Employees..Domestic.Ultimate.Total.)\n",
        "boxplot(data$Sales..Domestic.Ultimate.Total.USD.~data$Is.Domestic.Ultimate)\n",
        "means1 <- tapply(data$Sales..Domestic.Ultimate.Total.USD., data$Is.Domestic.Ultimate, mean)\n",
        "means1\n",
        "boxplot(data$Sales..Global.Ultimate.Total.USD.~data$Is.Global.Ultimate)\n",
        "means2 <- tapply(data$Sales..Global.Ultimate.Total.USD., data$Is.Global.Ultimate, mean)\n",
        "means2\n",
        "boxplot(data$Sales..Global.Ultimate.Total.USD.~data$Import.Export.Status)\n",
        "means3 <- tapply(data$Sales..Global.Ultimate.Total.USD., data$Import.Export.Status, mean)\n",
        "means3\n",
        "head(table(data$Industry))\n",
        "boxplot(data$Sales..Global.Ultimate.Total.USD.~data$Industry)\n",
        "means4 <- tapply(data$Sales..Global.Ultimate.Total.USD., data$Industry, mean)\n",
        "means4 = sort(means4, decreasing = TRUE)\n",
        "means4[1:5]\n",
        "boxplot(data$Sales..Global.Ultimate.Total.USD.~data$Entity.Type)\n",
        "table(data$Entity.Type)\n",
        "means5 <- tapply(data$Sales..Global.Ultimate.Total.USD., data$Entity.Type, mean)\n",
        "means5\n",
        "boxplot(data$Sales..Global.Ultimate.Total.USD.~data$Parent.Country)\n",
        "table(data$Parent.Country)\n",
        "means6 <- tapply(data$Sales..Global.Ultimate.Total.USD., data$Parent.Country, mean)\n",
        "means6 = sort(means6, decreasing = TRUE)\n",
        "means6[1:5]\n",
        "data$Ownership.Type\n",
        "table(data$Ownership.Type)\n",
        "boxplot(data$Sales..Global.Ultimate.Total.USD.~data$Ownership.Type)\n",
        "means7 <- tapply(data$Sales..Global.Ultimate.Total.USD., data$Ownership.Type, mean)\n",
        "means7\n",
        "boxplot(data$Sales..Global.Ultimate.Total.USD.~data$Global.Ultimate.Country)\n",
        "means8 <- tapply(data$Sales..Global.Ultimate.Total.USD., data$Global.Ultimate.Country, mean)\n",
        "means8 = sort(means8, decreasing = TRUE)\n",
        "means8[1:5]\n"
      ]
    },
    {
      "cell_type": "markdown",
      "metadata": {
        "id": "7rg_3n9RJNJX"
      },
      "source": [
        "## **DO NOT CHANGE** the filepath variable\n",
        "##### Instead, create a folder named 'data' in your current working directory and\n",
        "##### have the .csv file inside that. A relative path *must* be used when loading data into pandas"
      ]
    },
    {
      "cell_type": "code",
      "execution_count": null,
      "metadata": {
        "id": "_jUCUQmYJNJZ"
      },
      "outputs": [],
      "source": [
        "# Can have as many cells as you want for code\n",
        "import pandas as pd\n",
        "filepath = \"./data/catA_train.csv\"\n",
        "# the initialised filepath MUST be a relative path to a folder named data that contains the parquet file"
      ]
    },
    {
      "cell_type": "markdown",
      "metadata": {
        "id": "hOhedx2IJNJa"
      },
      "source": [
        "### **ALL** Code for machine learning and dataset analysis should be entered below.\n",
        "##### Ensure that your code is clear and readable.\n",
        "##### Comments and Markdown notes are advised to direct attention to pieces of code you deem useful."
      ]
    },
    {
      "cell_type": "code",
      "execution_count": null,
      "metadata": {
        "id": "fVIfmBe7JNJb"
      },
      "outputs": [],
      "source": [
        "###...code...###"
      ]
    },
    {
      "cell_type": "markdown",
      "metadata": {
        "id": "fgImQfzFJNJc"
      },
      "source": [
        "## The cell below is **NOT** to be removed\n",
        "##### The function is to be amended so that it accepts the given input (dataframe) and returns the required output (list).\n",
        "##### It is recommended to test the function out prior to submission\n",
        "-------------------------------------------------------------------------------------------------------------------------------\n",
        "##### The hidden_data parsed into the function below will have the same layout columns wise as the dataset *SENT* to you\n",
        "##### Thus, ensure that steps taken to modify the initial dataset to fit into the model are also carried out in the function below"
      ]
    },
    {
      "cell_type": "code",
      "execution_count": null,
      "metadata": {
        "id": "N9eFB3jRJNJd"
      },
      "outputs": [],
      "source": [
        "def testing_hidden_data(hidden_data: pd.DataFrame) -> list:\n",
        "    '''DO NOT REMOVE THIS FUNCTION.\n",
        "\n",
        "The function accepts a dataframe as input and return an iterable (list)\n",
        "of binary classes as output.\n",
        "\n",
        "The function should be coded to test on hidden data\n",
        "and should include any preprocessing functions needed for your model to perform.\n",
        "\n",
        "All relevant code MUST be included in this function.'''\n",
        "\n",
        "    result = []\n",
        "    return result"
      ]
    },
    {
      "cell_type": "markdown",
      "metadata": {
        "id": "bikqlnv2JNJe"
      },
      "source": [
        "##### Cell to check testing_hidden_data function"
      ]
    },
    {
      "cell_type": "code",
      "execution_count": null,
      "metadata": {
        "id": "V5SoG5DmJNJf"
      },
      "outputs": [],
      "source": [
        "# This cell should output a list of predictions.\n",
        "test_df = pd.read_csv(filepath)\n",
        "test_df = test_df.drop(columns=['Sales (Domestic Ultimate Total USD)'])\n",
        "print(testing_hidden_data(test_df))"
      ]
    },
    {
      "cell_type": "markdown",
      "metadata": {
        "id": "DTAojI4EJNJh"
      },
      "source": [
        "### Please have the filename renamed and ensure that it can be run with the requirements above being met. All the best!"
      ]
    },
    {
      "cell_type": "markdown",
      "source": [
        "# Our Analysis"
      ],
      "metadata": {
        "id": "Y8FYvGymKoQW"
      }
    },
    {
      "cell_type": "markdown",
      "source": [
        "In this analysis, we are analysing sales perfomance of both local and domestic businessess. In this particular case we have combined the domestic and international sales performance of the companies. This motivated by the need for the analysis of the overall sales of a company instead of distinct categories.\n",
        "\n",
        "To begin the processing, we started with cleaning the data. By removing the data that we thought was unnecccessary, for instance we removed  14,813 rows of data. This data includes, null data under independent factors, latitude, longtitude, accountid, 8digit sic code and its description, company description which made the data set unreliable and unusable, which adversely affects the ability of our modelling.\n",
        "\n",
        "After removal, we compared the odds ratio of all independent variables to figure out which those are significant enough to be included in our models.\n",
        "\n",
        "\n",
        "\n",
        "\n"
      ],
      "metadata": {
        "id": "P38VxouHLNtN"
      }
    }
  ],
  "metadata": {
    "kernelspec": {
      "display_name": "R",
      "name": "ir"
    },
    "language_info": {
      "name": "R"
    },
    "colab": {
      "provenance": [],
      "include_colab_link": true
    }
  },
  "nbformat": 4,
  "nbformat_minor": 0
}